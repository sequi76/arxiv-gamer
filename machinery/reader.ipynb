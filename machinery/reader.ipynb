{
 "cells": [
  {
   "cell_type": "markdown",
   "metadata": {},
   "source": [
    "# Source\n",
    "https://towardsdatascience.com/topic-modeling-and-latent-dirichlet-allocation-in-python-9bf156893c24\n"
   ]
  },
  {
   "cell_type": "code",
   "execution_count": 1,
   "metadata": {},
   "outputs": [],
   "source": [
    "import pandas as pd"
   ]
  },
  {
   "cell_type": "code",
   "execution_count": 2,
   "metadata": {},
   "outputs": [],
   "source": [
    "data0 = pd.read_pickle('hepth.pd');"
   ]
  },
  {
   "cell_type": "code",
   "execution_count": 3,
   "metadata": {},
   "outputs": [],
   "source": [
    "data = data0[-10000:]"
   ]
  },
  {
   "cell_type": "code",
   "execution_count": 4,
   "metadata": {},
   "outputs": [
    {
     "name": "stdout",
     "output_type": "stream",
     "text": [
      "Exact solutions of a two-dimensional Duffin-Petiau-Kemmer oscillator\n",
      "  subject to a coulomb potential in the gravitational field of cosmic string\n",
      "\n",
      "In this paper, the problem of a two-dimensional Duffin-Petiau-Kemmer (DKP)\n",
      "oscillator in the presence of a coulomb potential in the cosmic string\n",
      "background is solved. The eigensolutions of the problem in question have been\n",
      "found, and the influence of the cosmic string space-time on the eigenvalues has\n",
      "been analyzed.\n"
     ]
    }
   ],
   "source": [
    "print(data.iloc[1,2]+'\\n\\n'+data.iloc[1,3])"
   ]
  },
  {
   "cell_type": "code",
   "execution_count": 5,
   "metadata": {},
   "outputs": [
    {
     "name": "stdout",
     "output_type": "stream",
     "text": [
      "(10000, 6)\n",
      "(10000, 7)\n"
     ]
    },
    {
     "name": "stderr",
     "output_type": "stream",
     "text": [
      "/home/sequi/.local/lib/python3.7/site-packages/ipykernel_launcher.py:2: SettingWithCopyWarning: \n",
      "A value is trying to be set on a copy of a slice from a DataFrame.\n",
      "Try using .loc[row_indexer,col_indexer] = value instead\n",
      "\n",
      "See the caveats in the documentation: http://pandas.pydata.org/pandas-docs/stable/user_guide/indexing.html#returning-a-view-versus-a-copy\n",
      "  \n"
     ]
    }
   ],
   "source": [
    "print(data.shape)\n",
    "data['tabs']=data['title']+' \\n '+data['abstract']\n",
    "print(data.shape)"
   ]
  },
  {
   "cell_type": "code",
   "execution_count": 6,
   "metadata": {},
   "outputs": [
    {
     "name": "stdout",
     "output_type": "stream",
     "text": [
      "Holographic R\\'enyi entropy for two-dimensional $\\mathcal{N}$=(2,2)\n",
      "  superconformal field theory \n",
      " We investigate the holographic R\\'enyi entropy for two-dimensional $\\mathcal\n",
      "N=(2,2)$ superconformal field theory (SCFT), which is dual to $\\mathcal N=2$\n",
      "supergravity in AdS$_3$ background. In SCFT we have the stress tensor, current,\n",
      "and their supersymmetric partners, and in supergravity we have the graviton,\n",
      "vector field, and two gravitinos. We get the R\\'enyi mutual information of two\n",
      "short intervals on complex plane in expansion by the cross ratio $x$ to order\n",
      "$x^4$, and R\\'enyi entropy of one interval on torus in expansion by\n",
      "$q=\\exp(-2\\pi\\beta/L)$, with $\\beta$ being the inverse temperature and $L$\n",
      "being the spatial period, to order $q^2$. We calculate in both the supergravity\n",
      "and SCFT sides, and find matches of the results.\n"
     ]
    }
   ],
   "source": [
    "print(data.iloc[2,6])"
   ]
  },
  {
   "cell_type": "code",
   "execution_count": 7,
   "metadata": {},
   "outputs": [
    {
     "name": "stderr",
     "output_type": "stream",
     "text": [
      "/home/sequi/.local/lib/python3.7/site-packages/ipykernel_launcher.py:2: SettingWithCopyWarning: \n",
      "A value is trying to be set on a copy of a slice from a DataFrame.\n",
      "Try using .loc[row_indexer,col_indexer] = value instead\n",
      "\n",
      "See the caveats in the documentation: http://pandas.pydata.org/pandas-docs/stable/user_guide/indexing.html#returning-a-view-versus-a-copy\n",
      "  \n",
      "/home/sequi/.local/lib/python3.7/site-packages/ipykernel_launcher.py:3: SettingWithCopyWarning: \n",
      "A value is trying to be set on a copy of a slice from a DataFrame.\n",
      "Try using .loc[row_indexer,col_indexer] = value instead\n",
      "\n",
      "See the caveats in the documentation: http://pandas.pydata.org/pandas-docs/stable/user_guide/indexing.html#returning-a-view-versus-a-copy\n",
      "  This is separate from the ipykernel package so we can avoid doing imports until\n"
     ]
    }
   ],
   "source": [
    "data_text = data[['tabs']]\n",
    "data_text['title'] = data[['title']]\n",
    "data_text['index'] = data_text.index\n",
    "documents = data_text"
   ]
  },
  {
   "cell_type": "code",
   "execution_count": 8,
   "metadata": {},
   "outputs": [
    {
     "name": "stdout",
     "output_type": "stream",
     "text": [
      "(10000, 8)\n"
     ]
    },
    {
     "name": "stderr",
     "output_type": "stream",
     "text": [
      "/home/sequi/.local/lib/python3.7/site-packages/ipykernel_launcher.py:1: SettingWithCopyWarning: \n",
      "A value is trying to be set on a copy of a slice from a DataFrame.\n",
      "Try using .loc[row_indexer,col_indexer] = value instead\n",
      "\n",
      "See the caveats in the documentation: http://pandas.pydata.org/pandas-docs/stable/user_guide/indexing.html#returning-a-view-versus-a-copy\n",
      "  \"\"\"Entry point for launching an IPython kernel.\n"
     ]
    }
   ],
   "source": [
    "data['index'] = data.index\n",
    "print(data.shape)"
   ]
  },
  {
   "cell_type": "code",
   "execution_count": 9,
   "metadata": {},
   "outputs": [],
   "source": [
    "import gensim\n",
    "from gensim.utils import simple_preprocess\n",
    "from gensim.parsing.preprocessing import STOPWORDS\n",
    "from nltk.stem import WordNetLemmatizer, SnowballStemmer\n",
    "from nltk.stem.porter import *\n",
    "import numpy as np\n",
    "np.random.seed(2018)"
   ]
  },
  {
   "cell_type": "code",
   "execution_count": 10,
   "metadata": {},
   "outputs": [
    {
     "name": "stderr",
     "output_type": "stream",
     "text": [
      "[nltk_data] Downloading package wordnet to /home/sequi/nltk_data...\n",
      "[nltk_data]   Package wordnet is already up-to-date!\n"
     ]
    },
    {
     "data": {
      "text/plain": [
       "True"
      ]
     },
     "execution_count": 10,
     "metadata": {},
     "output_type": "execute_result"
    }
   ],
   "source": [
    "import nltk\n",
    "nltk.download('wordnet')"
   ]
  },
  {
   "cell_type": "code",
   "execution_count": 11,
   "metadata": {},
   "outputs": [],
   "source": [
    "def lemmatize_stemming(text):\n",
    "    return PorterStemmer().stem(WordNetLemmatizer().lemmatize(text, pos='v'))\n",
    "def preprocess(text):\n",
    "    result = []\n",
    "    for token in gensim.utils.simple_preprocess(text):\n",
    "        if token not in gensim.parsing.preprocessing.STOPWORDS and len(token) > 2:\n",
    "            result.append(lemmatize_stemming(token))\n",
    "    return result"
   ]
  },
  {
   "cell_type": "code",
   "execution_count": 12,
   "metadata": {},
   "outputs": [
    {
     "name": "stdout",
     "output_type": "stream",
     "text": [
      "original document: \n",
      "['Exact', 'solutions', 'of', 'a', 'two-dimensional', 'Duffin-Petiau-Kemmer', 'oscillator\\n', '', 'subject', 'to', 'a', 'coulomb', 'potential', 'in', 'the', 'gravitational', 'field', 'of', 'cosmic', 'string', '\\n', 'In', 'this', 'paper,', 'the', 'problem', 'of', 'a', 'two-dimensional', 'Duffin-Petiau-Kemmer', '(DKP)\\noscillator', 'in', 'the', 'presence', 'of', 'a', 'coulomb', 'potential', 'in', 'the', 'cosmic', 'string\\nbackground', 'is', 'solved.', 'The', 'eigensolutions', 'of', 'the', 'problem', 'in', 'question', 'have', 'been\\nfound,', 'and', 'the', 'influence', 'of', 'the', 'cosmic', 'string', 'space-time', 'on', 'the', 'eigenvalues', 'has\\nbeen', 'analyzed.']\n",
      "\n",
      "\n",
      " tokenized and lemmatized document: \n",
      "['exact', 'solut', 'dimension', 'duffin', 'petiau', 'kemmer', 'oscil', 'subject', 'coulomb', 'potenti', 'gravit', 'field', 'cosmic', 'string', 'paper', 'problem', 'dimension', 'duffin', 'petiau', 'kemmer', 'dkp', 'oscil', 'presenc', 'coulomb', 'potenti', 'cosmic', 'string', 'background', 'solv', 'eigensolut', 'problem', 'question', 'influenc', 'cosmic', 'string', 'space', 'time', 'eigenvalu', 'analyz']\n"
     ]
    }
   ],
   "source": [
    "doc_sample = data.iloc[1,6]\n",
    "print('original document: ')\n",
    "words = []\n",
    "for word in doc_sample.split(' '):\n",
    "    words.append(word)\n",
    "print(words)\n",
    "print('\\n\\n tokenized and lemmatized document: ')\n",
    "print(preprocess(doc_sample))"
   ]
  },
  {
   "cell_type": "code",
   "execution_count": 13,
   "metadata": {},
   "outputs": [],
   "source": [
    "processed_docs = data['tabs'].map(preprocess)"
   ]
  },
  {
   "cell_type": "code",
   "execution_count": 15,
   "metadata": {},
   "outputs": [
    {
     "name": "stdout",
     "output_type": "stream",
     "text": [
      "55000    Numerical evaluation of the tensor bispectrum ...\n",
      "55001    Exact solutions of a two-dimensional Duffin-Pe...\n",
      "Name: tabs, dtype: object\n",
      "55000    [numer, evalu, tensor, bispectrum, field, infl...\n",
      "55001    [exact, solut, dimension, duffin, petiau, kemm...\n",
      "Name: tabs, dtype: object\n"
     ]
    }
   ],
   "source": [
    "print(data['tabs'][:2])\n",
    "print(processed_docs[:2])"
   ]
  },
  {
   "cell_type": "markdown",
   "metadata": {},
   "source": [
    "# Bag of Words on the Data set\n",
    "just have a list of all the words in the dataset once processed"
   ]
  },
  {
   "cell_type": "code",
   "execution_count": 16,
   "metadata": {},
   "outputs": [
    {
     "name": "stdout",
     "output_type": "stream",
     "text": [
      "0 align\n",
      "1 amplitud\n",
      "2 analyt\n",
      "3 bispectrum\n",
      "4 character\n",
      "5 class\n",
      "6 compar\n",
      "7 consist\n",
      "8 context\n",
      "9 contribut\n",
      "10 curv\n"
     ]
    },
    {
     "data": {
      "text/plain": [
       "11726"
      ]
     },
     "execution_count": 16,
     "metadata": {},
     "output_type": "execute_result"
    }
   ],
   "source": [
    "dictionary = gensim.corpora.Dictionary(processed_docs)\n",
    "count = 0\n",
    "for k, v in dictionary.iteritems():\n",
    "    print(k, v)\n",
    "    count += 1\n",
    "    if count > 10:\n",
    "        break\n",
    "len(dictionary)"
   ]
  },
  {
   "cell_type": "code",
   "execution_count": 17,
   "metadata": {},
   "outputs": [],
   "source": [
    "dictionary.filter_extremes(no_below=15, no_above=0.95, keep_n=100000)"
   ]
  },
  {
   "cell_type": "code",
   "execution_count": 18,
   "metadata": {
    "scrolled": true
   },
   "outputs": [
    {
     "name": "stdout",
     "output_type": "stream",
     "text": [
      "0 align\n",
      "1 amplitud\n",
      "2 analyt\n",
      "3 bispectrum\n",
      "4 character\n",
      "5 class\n",
      "6 compar\n",
      "7 consist\n",
      "8 context\n",
      "9 contribut\n",
      "10 curv\n"
     ]
    },
    {
     "data": {
      "text/plain": [
       "2585"
      ]
     },
     "execution_count": 18,
     "metadata": {},
     "output_type": "execute_result"
    }
   ],
   "source": [
    "count = 0\n",
    "for k, v in dictionary.iteritems():\n",
    "    print(k, v)\n",
    "    count += 1\n",
    "    if count > 10:\n",
    "        break\n",
    "len(dictionary)"
   ]
  },
  {
   "cell_type": "code",
   "execution_count": 19,
   "metadata": {},
   "outputs": [],
   "source": [
    "bow_corpus = [dictionary.doc2bow(doc) for doc in processed_docs]"
   ]
  },
  {
   "cell_type": "code",
   "execution_count": 21,
   "metadata": {},
   "outputs": [
    {
     "name": "stdout",
     "output_type": "stream",
     "text": [
      "Word 17 (\"examin\") appears 1 time.\n",
      "Word 27 (\"limit\") appears 1 time.\n",
      "Word 28 (\"model\") appears 2 time.\n",
      "Word 33 (\"paramet\") appears 1 time.\n",
      "Word 63 (\"time\") appears 1 time.\n",
      "Word 84 (\"order\") appears 1 time.\n",
      "Word 98 (\"theori\") appears 1 time.\n",
      "Word 119 (\"depend\") appears 3 time.\n",
      "Word 125 (\"energi\") appears 3 time.\n",
      "Word 130 (\"form\") appears 3 time.\n",
      "Word 138 (\"independ\") appears 1 time.\n",
      "Word 214 (\"zero\") appears 1 time.\n",
      "Word 220 (\"bind\") appears 1 time.\n",
      "Word 226 (\"compon\") appears 1 time.\n",
      "Word 262 (\"scalar\") appears 1 time.\n",
      "Word 267 (\"standard\") appears 2 time.\n",
      "Word 286 (\"explor\") appears 1 time.\n",
      "Word 318 (\"new\") appears 1 time.\n",
      "Word 336 (\"factor\") appears 3 time.\n",
      "Word 343 (\"lead\") appears 1 time.\n",
      "Word 405 (\"momentum\") appears 1 time.\n",
      "Word 422 (\"consid\") appears 1 time.\n",
      "Word 477 (\"loop\") appears 1 time.\n",
      "Word 498 (\"low\") appears 1 time.\n",
      "Word 693 (\"satisfi\") appears 1 time.\n",
      "Word 794 (\"anomal\") appears 3 time.\n",
      "Word 831 (\"magnet\") appears 4 time.\n",
      "Word 869 (\"extens\") appears 2 time.\n",
      "Word 917 (\"enhanc\") appears 1 time.\n",
      "Word 1008 (\"level\") appears 1 time.\n",
      "Word 1076 (\"experi\") appears 1 time.\n",
      "Word 1081 (\"high\") appears 1 time.\n",
      "Word 1117 (\"cpt\") appears 1 time.\n",
      "Word 1125 (\"lorentz\") appears 1 time.\n",
      "Word 1134 (\"electromagnet\") appears 1 time.\n",
      "Word 1280 (\"moment\") appears 3 time.\n",
      "Word 1819 (\"qed\") appears 1 time.\n",
      "Word 1913 (\"transfer\") appears 1 time.\n",
      "Word 1986 (\"dipol\") appears 1 time.\n"
     ]
    }
   ],
   "source": [
    "bow_doc_variable = bow_corpus[7234]\n",
    "for i in range(len(bow_doc_variable)):\n",
    "    print(\"Word {} (\\\"{}\\\") appears {} time.\".format(bow_doc_variable[i][0], \n",
    "                                               dictionary[bow_doc_variable[i][0]], \n",
    "                                                bow_doc_variable[i][1]))"
   ]
  },
  {
   "cell_type": "code",
   "execution_count": 22,
   "metadata": {},
   "outputs": [],
   "source": [
    "import pickle\n",
    "data.to_pickle('data/data.pickle')\n",
    "with open('data/bow_corpus.pickle', 'wb') as file:\n",
    "    pickle.dump(bow_corpus, file)"
   ]
  },
  {
   "cell_type": "markdown",
   "metadata": {},
   "source": [
    "# Here begins the game"
   ]
  },
  {
   "cell_type": "code",
   "execution_count": 23,
   "metadata": {},
   "outputs": [],
   "source": [
    "Ntopics=15"
   ]
  },
  {
   "cell_type": "code",
   "execution_count": 24,
   "metadata": {},
   "outputs": [],
   "source": [
    "lda_model = gensim.models.LdaMulticore(bow_corpus, num_topics=Ntopics, id2word=dictionary, passes=20, minimum_probability=0.00000000001, workers=2, iterations=20)"
   ]
  },
  {
   "cell_type": "code",
   "execution_count": 25,
   "metadata": {
    "scrolled": true
   },
   "outputs": [
    {
     "name": "stdout",
     "output_type": "stream",
     "text": [
      "Topic: 0 \n",
      "Words: 0.035*\"graviti\" + 0.035*\"field\" + 0.030*\"scalar\" + 0.024*\"theori\" + 0.019*\"coupl\" + 0.017*\"perturb\" + 0.013*\"effect\" + 0.012*\"inflat\" + 0.012*\"non\" + 0.011*\"scale\"\n",
      "Topic: 1 \n",
      "Words: 0.050*\"equat\" + 0.029*\"integr\" + 0.025*\"model\" + 0.025*\"deform\" + 0.015*\"solut\" + 0.014*\"gener\" + 0.013*\"quantum\" + 0.013*\"function\" + 0.012*\"matrix\" + 0.010*\"hamiltonian\"\n",
      "Topic: 2 \n",
      "Words: 0.035*\"phase\" + 0.026*\"model\" + 0.022*\"transit\" + 0.019*\"critic\" + 0.015*\"temperatur\" + 0.014*\"qcd\" + 0.014*\"point\" + 0.012*\"order\" + 0.011*\"lattic\" + 0.011*\"studi\"\n",
      "Topic: 3 \n",
      "Words: 0.031*\"field\" + 0.027*\"magnet\" + 0.020*\"effect\" + 0.015*\"charg\" + 0.011*\"electr\" + 0.010*\"energi\" + 0.010*\"chiral\" + 0.010*\"mode\" + 0.009*\"wave\" + 0.009*\"momentum\"\n",
      "Topic: 4 \n",
      "Words: 0.059*\"theori\" + 0.030*\"topolog\" + 0.025*\"mathcal\" + 0.019*\"gaug\" + 0.018*\"dualiti\" + 0.014*\"symmetri\" + 0.014*\"dimension\" + 0.014*\"group\" + 0.013*\"mathbb\" + 0.012*\"chern\"\n",
      "Topic: 5 \n",
      "Words: 0.037*\"space\" + 0.019*\"theori\" + 0.018*\"gener\" + 0.014*\"structur\" + 0.013*\"geometri\" + 0.012*\"field\" + 0.012*\"manifold\" + 0.011*\"construct\" + 0.011*\"spacetim\" + 0.009*\"metric\"\n",
      "Topic: 6 \n",
      "Words: 0.044*\"algebra\" + 0.023*\"oper\" + 0.022*\"time\" + 0.020*\"quantum\" + 0.016*\"system\" + 0.013*\"mathfrak\" + 0.012*\"random\" + 0.010*\"syk\" + 0.010*\"local\" + 0.010*\"bodi\"\n",
      "Topic: 7 \n",
      "Words: 0.026*\"model\" + 0.021*\"cosmolog\" + 0.020*\"matter\" + 0.020*\"dark\" + 0.018*\"energi\" + 0.014*\"univers\" + 0.013*\"observ\" + 0.012*\"gravit\" + 0.010*\"scale\" + 0.008*\"wave\"\n",
      "Topic: 8 \n",
      "Words: 0.051*\"spin\" + 0.030*\"field\" + 0.029*\"fermion\" + 0.024*\"higher\" + 0.024*\"theori\" + 0.019*\"particl\" + 0.015*\"interact\" + 0.015*\"deriv\" + 0.013*\"dimens\" + 0.012*\"order\"\n",
      "Topic: 9 \n",
      "Words: 0.034*\"function\" + 0.029*\"loop\" + 0.023*\"theori\" + 0.020*\"amplitud\" + 0.019*\"oper\" + 0.017*\"point\" + 0.014*\"correl\" + 0.014*\"result\" + 0.012*\"comput\" + 0.011*\"integr\"\n",
      "Topic: 10 \n",
      "Words: 0.068*\"quantum\" + 0.038*\"state\" + 0.014*\"entangl\" + 0.012*\"field\" + 0.011*\"time\" + 0.011*\"classic\" + 0.010*\"model\" + 0.010*\"effect\" + 0.009*\"inform\" + 0.008*\"theori\"\n",
      "Topic: 11 \n",
      "Words: 0.054*\"string\" + 0.037*\"solut\" + 0.034*\"brane\" + 0.033*\"theori\" + 0.020*\"field\" + 0.019*\"non\" + 0.017*\"dimension\" + 0.015*\"supergrav\" + 0.013*\"type\" + 0.013*\"time\"\n",
      "Topic: 12 \n",
      "Words: 0.056*\"gaug\" + 0.055*\"symmetri\" + 0.033*\"theori\" + 0.025*\"break\" + 0.022*\"model\" + 0.019*\"field\" + 0.015*\"invari\" + 0.011*\"non\" + 0.011*\"action\" + 0.010*\"chiral\"\n",
      "Topic: 13 \n",
      "Words: 0.044*\"boundari\" + 0.035*\"holograph\" + 0.028*\"entropi\" + 0.026*\"conform\" + 0.025*\"cft\" + 0.024*\"entangl\" + 0.023*\"ad\" + 0.021*\"bulk\" + 0.018*\"theori\" + 0.015*\"dual\"\n",
      "Topic: 14 \n",
      "Words: 0.071*\"black\" + 0.067*\"hole\" + 0.022*\"horizon\" + 0.013*\"charg\" + 0.013*\"solut\" + 0.013*\"spacetim\" + 0.011*\"graviti\" + 0.009*\"thermodynam\" + 0.008*\"gener\" + 0.008*\"gravit\"\n"
     ]
    }
   ],
   "source": [
    "for idx, topic in lda_model.print_topics(-1):\n",
    "    print('Topic: {} \\nWords: {}'.format(idx, topic))"
   ]
  },
  {
   "cell_type": "code",
   "execution_count": 23,
   "metadata": {},
   "outputs": [],
   "source": [
    "import matplotlib.pyplot as plt"
   ]
  },
  {
   "cell_type": "code",
   "execution_count": 24,
   "metadata": {},
   "outputs": [
    {
     "data": {
      "text/plain": [
       "<matplotlib.collections.PathCollection at 0x7fb84325b5c0>"
      ]
     },
     "execution_count": 24,
     "metadata": {},
     "output_type": "execute_result"
    },
    {
     "data": {
      "image/png": "[encoded data removed]",
      "text/plain": [
       "<Figure size 432x288 with 1 Axes>"
      ]
     },
     "metadata": {
      "needs_background": "light"
     },
     "output_type": "display_data"
    }
   ],
   "source": [
    "w=[[] for i in range(10)]\n",
    "for bow in bow_corpus:\n",
    "    if(len(lda_model[bow])!=Ntopics):\n",
    "        print('Not all present')\n",
    "    for i in range(10):\n",
    "        w[i].append(float(lda_model[bow][i][1]))\n",
    "plt.scatter(w[0],w[1])"
   ]
  },
  {
   "cell_type": "code",
   "execution_count": 25,
   "metadata": {},
   "outputs": [
    {
     "data": {
      "text/plain": [
       "<matplotlib.legend.Legend at 0x7fb841307b38>"
      ]
     },
     "execution_count": 25,
     "metadata": {},
     "output_type": "execute_result"
    },
    {
     "data": {
      "image/png": "[encoded data removed]",
      "text/plain": [
       "<Figure size 432x288 with 1 Axes>"
      ]
     },
     "metadata": {
      "needs_background": "light"
     },
     "output_type": "display_data"
    }
   ],
   "source": [
    "plt.scatter(w[0],w[1],label='0-1')\n",
    "#plt.scatter(w[0],w[9],label='0-9')\n",
    "plt.legend(loc='upper right')"
   ]
  },
  {
   "cell_type": "code",
   "execution_count": 26,
   "metadata": {},
   "outputs": [],
   "source": [
    "lda_model.save(\"models/hep-th\")"
   ]
  },
  {
   "cell_type": "markdown",
   "metadata": {},
   "source": [
    "# Load Saved Model"
   ]
  },
  {
   "cell_type": "code",
   "execution_count": 25,
   "metadata": {},
   "outputs": [],
   "source": [
    "lda_model = gensim.models.LdaMulticore.load(\"models/hep-th\")"
   ]
  },
  {
   "cell_type": "code",
   "execution_count": 27,
   "metadata": {},
   "outputs": [
    {
     "name": "stdout",
     "output_type": "stream",
     "text": [
      "Topic: 0 \n",
      "Words: 0.035*\"graviti\" + 0.035*\"field\" + 0.030*\"scalar\" + 0.023*\"theori\" + 0.019*\"coupl\" + 0.017*\"perturb\" + 0.013*\"effect\" + 0.012*\"inflat\" + 0.012*\"non\" + 0.011*\"scale\"\n",
      "Topic: 1 \n",
      "Words: 0.050*\"equat\" + 0.029*\"integr\" + 0.025*\"model\" + 0.025*\"deform\" + 0.015*\"solut\" + 0.014*\"gener\" + 0.013*\"quantum\" + 0.013*\"function\" + 0.012*\"matrix\" + 0.010*\"hamiltonian\"\n",
      "Topic: 2 \n",
      "Words: 0.035*\"phase\" + 0.026*\"model\" + 0.022*\"transit\" + 0.019*\"critic\" + 0.015*\"temperatur\" + 0.014*\"qcd\" + 0.014*\"point\" + 0.012*\"order\" + 0.011*\"lattic\" + 0.011*\"studi\"\n",
      "Topic: 3 \n",
      "Words: 0.031*\"field\" + 0.027*\"magnet\" + 0.020*\"effect\" + 0.015*\"charg\" + 0.011*\"electr\" + 0.010*\"energi\" + 0.010*\"chiral\" + 0.010*\"mode\" + 0.009*\"wave\" + 0.009*\"momentum\"\n",
      "Topic: 4 \n",
      "Words: 0.060*\"theori\" + 0.030*\"topolog\" + 0.025*\"mathcal\" + 0.019*\"gaug\" + 0.018*\"dualiti\" + 0.014*\"symmetri\" + 0.014*\"dimension\" + 0.013*\"group\" + 0.013*\"mathbb\" + 0.012*\"chern\"\n",
      "Topic: 5 \n",
      "Words: 0.037*\"space\" + 0.019*\"theori\" + 0.018*\"gener\" + 0.013*\"structur\" + 0.013*\"geometri\" + 0.012*\"field\" + 0.012*\"manifold\" + 0.011*\"construct\" + 0.010*\"spacetim\" + 0.009*\"metric\"\n",
      "Topic: 6 \n",
      "Words: 0.044*\"algebra\" + 0.024*\"oper\" + 0.021*\"time\" + 0.020*\"quantum\" + 0.016*\"system\" + 0.013*\"mathfrak\" + 0.012*\"random\" + 0.010*\"syk\" + 0.010*\"local\" + 0.010*\"bodi\"\n",
      "Topic: 7 \n",
      "Words: 0.026*\"model\" + 0.021*\"cosmolog\" + 0.020*\"matter\" + 0.020*\"dark\" + 0.018*\"energi\" + 0.014*\"univers\" + 0.013*\"observ\" + 0.012*\"gravit\" + 0.010*\"scale\" + 0.008*\"time\"\n",
      "Topic: 8 \n",
      "Words: 0.051*\"spin\" + 0.030*\"field\" + 0.029*\"fermion\" + 0.024*\"higher\" + 0.024*\"theori\" + 0.019*\"particl\" + 0.015*\"interact\" + 0.015*\"deriv\" + 0.013*\"dimens\" + 0.012*\"order\"\n",
      "Topic: 9 \n",
      "Words: 0.034*\"function\" + 0.029*\"loop\" + 0.023*\"theori\" + 0.020*\"amplitud\" + 0.019*\"oper\" + 0.017*\"point\" + 0.014*\"correl\" + 0.014*\"result\" + 0.012*\"comput\" + 0.011*\"integr\"\n",
      "Topic: 10 \n",
      "Words: 0.068*\"quantum\" + 0.038*\"state\" + 0.015*\"entangl\" + 0.012*\"field\" + 0.012*\"time\" + 0.010*\"classic\" + 0.010*\"model\" + 0.010*\"effect\" + 0.009*\"inform\" + 0.008*\"theori\"\n",
      "Topic: 11 \n",
      "Words: 0.054*\"string\" + 0.037*\"solut\" + 0.034*\"brane\" + 0.033*\"theori\" + 0.020*\"field\" + 0.019*\"non\" + 0.017*\"dimension\" + 0.015*\"supergrav\" + 0.013*\"type\" + 0.013*\"time\"\n",
      "Topic: 12 \n",
      "Words: 0.056*\"gaug\" + 0.055*\"symmetri\" + 0.033*\"theori\" + 0.025*\"break\" + 0.022*\"model\" + 0.019*\"field\" + 0.015*\"invari\" + 0.011*\"non\" + 0.010*\"action\" + 0.010*\"chiral\"\n",
      "Topic: 13 \n",
      "Words: 0.044*\"boundari\" + 0.035*\"holograph\" + 0.028*\"entropi\" + 0.027*\"conform\" + 0.025*\"cft\" + 0.024*\"entangl\" + 0.023*\"ad\" + 0.021*\"bulk\" + 0.018*\"theori\" + 0.015*\"dual\"\n",
      "Topic: 14 \n",
      "Words: 0.070*\"black\" + 0.067*\"hole\" + 0.022*\"horizon\" + 0.013*\"charg\" + 0.013*\"solut\" + 0.013*\"spacetim\" + 0.011*\"graviti\" + 0.009*\"thermodynam\" + 0.008*\"gener\" + 0.007*\"gravit\"\n"
     ]
    }
   ],
   "source": [
    "for idx, topic in lda_model.print_topics(-1):\n",
    "    print('Topic: {} \\nWords: {}'.format(idx, topic))"
   ]
  },
  {
   "cell_type": "markdown",
   "metadata": {},
   "source": [
    "# Learn your preferences "
   ]
  },
  {
   "cell_type": "code",
   "execution_count": 28,
   "metadata": {},
   "outputs": [],
   "source": [
    "from random import randint\n",
    "from operator import add\n",
    "class color:\n",
    "   PURPLE = '\\033[95m'\n",
    "   CYAN = '\\033[96m'\n",
    "   DARKCYAN = '\\033[36m'\n",
    "   BLUE = '\\033[94m'\n",
    "   GREEN = '\\033[92m'\n",
    "   YELLOW = '\\033[93m'\n",
    "   RED = '\\033[91m'\n",
    "   BOLD = '\\033[1m'\n",
    "   UNDERLINE = '\\033[4m'\n",
    "   END = '\\033[0m'"
   ]
  },
  {
   "cell_type": "code",
   "execution_count": 29,
   "metadata": {},
   "outputs": [],
   "source": [
    "topicscore = [0] * Ntopics"
   ]
  },
  {
   "cell_type": "code",
   "execution_count": 30,
   "metadata": {},
   "outputs": [
    {
     "name": "stdout",
     "output_type": "stream",
     "text": [
      "\n",
      "\u001b[1mOn moduli space of symmetric orthogonal matrices and exclusive Racah\n",
      "  matrix $\\bar S$ for representation $R=[3,1]$ with multiplicities\u001b[0m\n",
      "\n",
      "Racah matrices and higher $j$-symbols are used in description of braiding\n",
      "properties of conformal blocks and in construction of knot polynomials.\n",
      "However, in complicated cases the logic is actually inverted: they are much\n",
      "better deduced from these applications than from the basic representation\n",
      "theory. Following the recent proposal of arXiv:1612.00422, we obtain the\n",
      "exclusive Racah matrix $\\bar S$ for the currently-front-line case of\n",
      "representation $R=[3,1]$ with non-trivial multiplicities, where it is actually\n",
      "operator valued, i.e. depends on the choice of basises in the intertwiner\n",
      "spaces. Effective field theory for arborescent knots in this case possesses\n",
      "gauge invariance, which is not yet properly described and understood. Because\n",
      "of this lack of knowledge a big part (about a half) of $\\bar S$ needs to be\n",
      "reconstructed from orthogonality conditions. Therefore we discuss the abundance\n",
      "of symmetric orthogonal matrices, to which $\\bar S$ belong, and explain that\n",
      "dimension of their moduli space is also about a half of that for the ordinary\n",
      "orthogonal matrices. Thus the knowledge approximately matches the freedom and\n",
      "this explains why the method can work -- with some limited addition of educated\n",
      "guesses. A similar calculation for $R=[r,1]$ for $r>3$ should also be doable.\n",
      "Score this paper between -10 (worst) and +10 (best): -2\n",
      "----\n",
      "\n",
      "\u001b[1mOn the BV formalism of open superstring field theory in the large\n",
      "  Hilbert space\u001b[0m\n",
      "\n",
      "We construct several BV master actions for open superstring field theory in\n",
      "the large Hilbert space. First, we show that a naive use of the conventional BV\n",
      "approach breaks down at the third order of the antifield number expansion,\n",
      "although it enables us to define a simple \"string antibracket\" taking the\n",
      "Darboux form as space-time antibrackets. This fact implies that in the large\n",
      "Hilbert space, \"string fields-antifields\" should be reassembled to obtain\n",
      "master actions in a simple manner. We determine the assembly of the string\n",
      "antifields on the basis of Berkovits' constrained BV approach, and give\n",
      "solutions to the master equation defined by Dirac antibrackets on the\n",
      "constrained string field-antifield space. It is expected that partially\n",
      "gauge-fixing enables us to relate superstring field theories based on the large\n",
      "and small Hilbert spaces directly: Reassembling string fields-antifields is\n",
      "rather natural from this point of view. Finally, inspired by these results, we\n",
      "revisit the conventional BV approach and construct a BV master action based on\n",
      "the minimal set of string fields-antifields.\n",
      "Score this paper between -10 (worst) and +10 (best): 1\n",
      "----\n",
      "\n",
      "\u001b[1mGraviton fluctuations erase the cosmological constant\u001b[0m\n",
      "\n",
      "Graviton fluctuations induce strong non-perturbative infrared renormalization\n",
      "effects for the cosmological constant. The functional renormalization flow\n",
      "drives a positive cosmological constant towards zero, solving the cosmological\n",
      "constant problem without the need to tune parameters. We propose a simple\n",
      "computation of the graviton contribution to the flow of the effective potential\n",
      "for scalar fields. Within variable gravity we find that the potential increases\n",
      "asymptotically at most quadratically with the scalar field. With effective\n",
      "Planck mass proportional to the scalar field, the solutions of the derived\n",
      "cosmological equations lead to an asymptotically vanishing cosmological\n",
      "\"constant\" in the infinite future, providing for dynamical dark energy in the\n",
      "present cosmological epoch. Beyond a solution of the cosmological constant\n",
      "problem, our simplified computation also entails a sizeable positive\n",
      "graviton-induced anomalous dimension for the quartic Higgs coupling in the\n",
      "ultraviolet regime, substantiating the successful prediction of the Higgs boson\n",
      "mass within the asymptotic safety scenario for quantum gravity.\n",
      "Score this paper between -10 (worst) and +10 (best): 6\n",
      "----\n",
      "\n",
      "\u001b[1mCompeting s-wave orders from Einstein-Gauss-Bonnet gravity\u001b[0m\n",
      "\n",
      "In this paper, the holographic superconductor model with two s-wave orders\n",
      "from 4+1 dimensional Einstein-Gauss-Bonnet gravity is explored in the probe\n",
      "limit. At different values of the Gauss-Bonnet coefficient $\\alpha$, we study\n",
      "the influence of tuning the mass and charge parameters of the bulk scalar field\n",
      "on the free energy curve of condensed solution with signal s-wave order, and\n",
      "compare the difference of tuning the two different parameters while the changes\n",
      "of the critical temperature are the same. Based on the above results, it is\n",
      "indicated that the two free energy curves of different s-wave orders can have\n",
      "one or two intersection points, where two typical phase transition behaviors of\n",
      "the s+s coexistent phase, including the reentrant phase transition near the\n",
      "Chern-Simons limit $\\alpha=0.25$, can be found. We also give an explanation to\n",
      "the nontrivial behavior of the $T_c-\\alpha$ curves near the Chern-Simons limit,\n",
      "which might be heuristic to understand the origin of the reentrant behavior\n",
      "near the Chern-Simons limit.\n",
      "Score this paper between -10 (worst) and +10 (best): 3\n",
      "----\n",
      "\n",
      "\u001b[1mVacuum Polarization Energy for General Backgrounds in One Space\n",
      "  Dimension\u001b[0m\n",
      "\n",
      "For field theories in one time and one space dimensions we propose an\n",
      "efficient method to compute the vacuum polarization energy of static field\n",
      "configurations that do not allow a decomposition into symmetric and\n",
      "anti--symmetric channels. The method also applies to scenarios in which the\n",
      "masses of the quantum fluctuations at positive and negative spatial infinity\n",
      "are different. As an example we compute the vacuum polarization energy of the\n",
      "kink soliton in the $\\phi^6$ model. We link the dependence of this energy on\n",
      "the position of the soliton to the different masses.\n",
      "Score this paper between -10 (worst) and +10 (best): 4\n",
      "----\n",
      "\n",
      "\u001b[1mImplications of a frame dependent gravitational effective action for\n",
      "  perturbations on the Robertson-Walker Metric\u001b[0m\n",
      "\n",
      "In earlier work we showed that a frame dependent effective action motivated\n",
      "by the postulates of three-space general coordinate invariance and Weyl scaling\n",
      "invariance exactly mimics a cosmological constant in Robertson-Walker (RW)\n",
      "spacetimes. Here we study the implications of this effective action for small\n",
      "fluctuations around a spatially flat RW background geometry. The equations for\n",
      "the conserving extension of the modified stress-energy tensor can be integrated\n",
      "in closed form, and involve only the metric perturbation $h_{00}$. Hence the\n",
      "equations for tensor and vector perturbations are unmodified, but there are\n",
      "Hubble scale additions to the scalar perturbation equations, which nonetheless\n",
      "admit no propagating wave solutions. Consequently, there are no modifications\n",
      "to standard gravitational wave propagation theory, but there may be observable\n",
      "implications for cosmology. We give a self-contained discussion, including an\n",
      "analysis of the restricted class of gauge transformations that act when a frame\n",
      "dependent effective action is present.\n",
      "Score this paper between -10 (worst) and +10 (best): 4\n",
      "----\n",
      "\n",
      "\u001b[1mFrom Spinning Primaries to Permutation Orbifolds\u001b[0m\n",
      "\n",
      "We carry out a systematic study of primary operators in the conformal field\n",
      "theory of a free Weyl fermion. Using SO(4,2) characters we develop counting\n",
      "formulas for primaries constructed using a fixed number of fermion fields. By\n",
      "specializing to particular classes of primaries, we derive very explicit\n",
      "formulas for the generating functions for the number of primaries in these\n",
      "classes. We present a duality map between primary operators in the fermion\n",
      "field theory and polynomial functions. This allows us to construct the\n",
      "primaries that were counted. Next we show that these classes of primary fields\n",
      "correspond to polynomial functions on certain permutation orbifolds. These\n",
      "orbifolds have palindromic Hilbert series.\n",
      "Score this paper between -10 (worst) and +10 (best): 2\n",
      "----\n",
      "\n",
      "\u001b[1mSpacetime from Unentanglement\u001b[0m\n",
      "\n",
      "The past decade has seen a tremendous effort toward unraveling the\n",
      "relationship between entanglement and emergent spacetime. These investigations\n",
      "have revealed that entanglement between holographic degrees of freedom is\n",
      "crucial for the existence of bulk spacetime. We examine this connection from\n",
      "the other end of the entanglement spectrum and clarify the assertion that\n",
      "maximally entangled states have no reconstructable spacetime. To do so, we\n",
      "first define the conditions for bulk reconstructability. Under these terms, we\n",
      "scrutinize two cases of maximally entangled holographic states. One is the\n",
      "familiar example of AdS black holes; these are dual to thermal states of the\n",
      "boundary CFT. Sending the temperature to the cutoff scale makes the state\n",
      "maximally entangled and the respective black hole consumes the spacetime. We\n",
      "then examine the de Sitter limit of FRW spacetimes. This limit is maximally\n",
      "entangled if one formulates the boundary theory on the holographic screen.\n",
      "Paralleling the AdS black hole, we find the resulting reconstructable region of\n",
      "spacetime vanishes. Motivated by these results, we prove a theorem showing that\n",
      "maximally entangled states have no reconstructable spacetime. Evidently, the\n",
      "emergence of spacetime is endemic to intermediate entanglement. By studying the\n",
      "manner in which intermediate entanglement is achieved, we uncover important\n",
      "properties about the boundary theory of FRW spacetimes. With this clarified\n",
      "understanding, our final discussion elucidates the natural way in which\n",
      "holographic Hilbert spaces may house states dual to different geometries. This\n",
      "paper provides a coherent picture clarifying the link between spacetime and\n",
      "entanglement and develops many promising avenues of further work.\n"
     ]
    },
    {
     "name": "stdout",
     "output_type": "stream",
     "text": [
      "Score this paper between -10 (worst) and +10 (best): 6\n",
      "----\n",
      "\n",
      "\u001b[1mRotating and twisting locally rotationally symmetric spacetimes: a\n",
      "  general solution\u001b[0m\n",
      "\n",
      "In this paper we derive a general solution for the most general rotating and\n",
      "twisting locally rotationally symmetric spacetimes. This is achieved in three\n",
      "steps. First we decompose the manifold via 1+1+2 semi-tetrad formalism that\n",
      "yields a set of geometrical and thermodynamic scalars for the spacetime. We\n",
      "then recast the Einstein field equations in terms of evolution and propagation\n",
      "of these scalars. It is then shown that this class of spacetimes must possess\n",
      "self similarity and we use this property to solve for these scalars, thus\n",
      "obtaining a general solution. This solution has a number of very interesting\n",
      "cosmological or astrophysical consequences which we discuss in detail.\n",
      "Score this paper between -10 (worst) and +10 (best): 2\n",
      "----\n",
      "\n",
      "\u001b[1mEuclidean relativistic quantum mechanics - scattering asymptotic\n",
      "  conditions\u001b[0m\n",
      "\n",
      "We discuss the formulation of the scattering asymptotic condition in a\n",
      "relativistic quantum theory formulated in terms of reflection positive\n",
      "Euclidean Green functions.\n",
      "Score this paper between -10 (worst) and +10 (best): 5\n",
      "----\n",
      "\n",
      "\u001b[1mEnergy minimizing Beltrami fields on Sasakian 3-manifolds\u001b[0m\n",
      "\n",
      "We study on which compact Sasakian 3-manifolds the Reeb field, which is a\n",
      "Beltrami field with eigenvalue 2, is an energy minimizer in its adjoint orbit\n",
      "under the action of volume preserving diffeomorphisms. This minimization\n",
      "property for Beltrami fields is relevant because of its connections with the\n",
      "phenomenon of magnetic relaxation and the hydrodynamic stability of steady\n",
      "Euler flows. We characterize the Sasakian manifolds where the Reeb field is a\n",
      "minimizer in terms of the first positive eigenvalue of the curl operator and\n",
      "show that for $a>a_0$ (a constant that depends on the Sasakian structure) the\n",
      "Reeb field of the $\\mathcal{D}$-homothetic deformation of the manifold with\n",
      "constant $a$ (which is still Sasakian) is an unstable critical point of the\n",
      "energy, and hence not even a local minimizer. We also provide some examples of\n",
      "Sasakian manifolds where the Reeb field is a minimizer, highlighting the case\n",
      "of the weighted 3-spheres, on which another minimization problem (for the\n",
      "quartic Skyrme-Faddeev energy) is shown to admit exact solutions.\n",
      "Score this paper between -10 (worst) and +10 (best): -2\n",
      "----\n",
      "\n",
      "\u001b[1mBootstrapping the QCD soft anomalous dimension\u001b[0m\n",
      "\n",
      "The soft anomalous dimension governs the infrared singularities of scattering\n",
      "amplitudes to all orders in perturbative quantum field theory, and is a crucial\n",
      "ingredient in both formal and phenomenological applications of non-abelian\n",
      "gauge theories. It has recently been computed at three-loop order for massless\n",
      "partons by explicit evaluation of all relevant Feynman diagrams. In this paper,\n",
      "we show how the same result can be obtained, up to an overall numerical factor,\n",
      "using a bootstrap procedure. We first give a geometrical argument for the fact\n",
      "that the result can be expressed in terms of single-valued harmonic\n",
      "polylogarithms. We then use symmetry considerations as well as known properties\n",
      "of scattering amplitudes in collinear and high-energy (Regge) limits to\n",
      "constrain an ansatz of basis functions. This is a highly non-trivial\n",
      "cross-check of the result, and our methods pave the way for greatly simplified\n",
      "higher-order calculations.\n",
      "Score this paper between -10 (worst) and +10 (best): 1\n",
      "----\n",
      "\n",
      "\u001b[1mCrystal structures in generalized Skyrme model\u001b[0m\n",
      "\n",
      "We investigate the properties of triply-periodic Skyrme crystals in the\n",
      "generalized Skyrme model $\\mathcal{L}_6 + \\mathcal{L}_4 + \\mathcal{L}_2+\n",
      "\\mathcal{L}_0$ with higher-derivative terms up to sixth order. Three different\n",
      "symmetry breaking potential terms $\\mathcal{L}_0$ are considered, the\n",
      "generalized pion mass term, double vacuum potential and mixed potential.\n",
      "Various scenario of phase transitions from the low density phase to the high\n",
      "density phase are examined for different choices of the parameters of the\n",
      "model. In particular, we investigated limiting behavior of the Skyrme crystals\n",
      "in the truncated submodel without the Skyrme term $\\mathcal{L}_4$ and/or\n",
      "without the $\\mathcal{L}_2$ term. We show that the Skyrme crystal may exist in\n",
      "the pure $\\mathcal{L}_4$ and $\\mathcal{L}_6$ models and investigated the phase\n",
      "structure of these solutions. Considering the near-BPS submodel, we found that\n",
      "there are indications of the phase transition from a low density quasi-liquid\n",
      "phase to the high density symmetric phase of the Skyrmionic matter.\n",
      "Score this paper between -10 (worst) and +10 (best): -1\n",
      "----\n",
      "\n",
      "\u001b[1mGravitational waves in Poincar\\'e gauge gravity theory\u001b[0m\n",
      "\n",
      "We derive the exact gravitational wave solutions in a general class of\n",
      "quadratic Poincar\\'e gauge gravity models. The Lagrangian includes all possible\n",
      "linear and quadratic invariants constructed from the torsion and the curvature,\n",
      "including the parity odd terms. The ansatz for the gravitational wave\n",
      "configuration and the properties of the wave solutions are patterned following\n",
      "the corresponding ansatz and the properties of the plane-fronted\n",
      "electromagnetic wave.\n",
      "Score this paper between -10 (worst) and +10 (best): 3\n",
      "----\n",
      "\n",
      "\u001b[1mCurved momentum spaces from quantum (Anti-)de Sitter groups in (3+1)\n",
      "  dimensions\u001b[0m\n",
      "\n",
      "Curved momentum spaces associated to the $\\kappa$-deformation of the (3+1) de\n",
      "Sitter and Anti-de Sitter algebras are constructed as orbits of suitable\n",
      "actions of the dual Poisson-Lie group associated to the $\\kappa$-deformation\n",
      "with non-vanishing cosmological constant. The $\\kappa$-de Sitter and\n",
      "$\\kappa$-Anti-de Sitter curved momentum spaces are separately analysed, and\n",
      "they turn out to be, respectively, half of the (6+1)-dimensional de Sitter\n",
      "space and half of a space with $SO(4,4)$ invariance. Such spaces are made of\n",
      "the momenta associated to spacetime translations and the \"hyperbolic\" momenta\n",
      "associated to boost transformations. The known $\\kappa$-Poincar\\'e curved\n",
      "momentum space is smoothly recovered as the vanishing cosmological constant\n",
      "limit from both of the constructions.\n",
      "Score this paper between -10 (worst) and +10 (best): 3\n",
      "----\n"
     ]
    }
   ],
   "source": [
    "for i in range(15):\n",
    "    docnumber = randint(0,len(bow_corpus))\n",
    "    print(\"\\n\"+color.BOLD+data.iloc[docnumber,2]+color.END+\"\\n\\n\"+data.iloc[docnumber,3])\n",
    "    score = int(input(\"Score this paper between -10 (worst) and +10 (best): \"))\n",
    "    score2add = [row[1]*score for row in lda_model[bow_corpus[docnumber]]]\n",
    "    if ( len(score2add) != Ntopics ):\n",
    "        print('Not good length')\n",
    "    if ( len(score2add) == Ntopics ):\n",
    "        topicscore=list( map(add, topicscore, score2add) )\n",
    "        print(\"----\")\n",
    "     \n",
    "#print(\"\\n\\nGood, your score over topics is:\\n\")\n",
    "#print(topicscore)\n",
    "topicscore = np.array(topicscore)"
   ]
  },
  {
   "cell_type": "markdown",
   "metadata": {},
   "source": [
    "# Game 1: Sort 10 random papers according to your preferences"
   ]
  },
  {
   "cell_type": "code",
   "execution_count": 31,
   "metadata": {},
   "outputs": [
    {
     "data": {
      "text/html": [
       "<div>\n",
       "<style scoped>\n",
       "    .dataframe tbody tr th:only-of-type {\n",
       "        vertical-align: middle;\n",
       "    }\n",
       "\n",
       "    .dataframe tbody tr th {\n",
       "        vertical-align: top;\n",
       "    }\n",
       "\n",
       "    .dataframe thead th {\n",
       "        text-align: right;\n",
       "    }\n",
       "</style>\n",
       "<table border=\"1\" class=\"dataframe\">\n",
       "  <thead>\n",
       "    <tr style=\"text-align: right;\">\n",
       "      <th></th>\n",
       "      <th>score</th>\n",
       "      <th>title</th>\n",
       "    </tr>\n",
       "  </thead>\n",
       "  <tbody>\n",
       "    <tr>\n",
       "      <th>2</th>\n",
       "      <td>5.472836</td>\n",
       "      <td>Possible Derivative Interactions in Massive bi-Gravity</td>\n",
       "    </tr>\n",
       "    <tr>\n",
       "      <th>3</th>\n",
       "      <td>5.267358</td>\n",
       "      <td>Greybody factors for a nonminimally coupled scalar field in BTZ black\\n  hole background</td>\n",
       "    </tr>\n",
       "    <tr>\n",
       "      <th>9</th>\n",
       "      <td>4.859127</td>\n",
       "      <td>Quantum equivalence of $f(R)$ gravity and scalar-tensor theories</td>\n",
       "    </tr>\n",
       "    <tr>\n",
       "      <th>8</th>\n",
       "      <td>4.567592</td>\n",
       "      <td>New boundary variables for classical and quantum gravity on a null\\n  surface</td>\n",
       "    </tr>\n",
       "    <tr>\n",
       "      <th>6</th>\n",
       "      <td>3.831391</td>\n",
       "      <td>On the renormalization group of quantum field theory (after R. Bocherds)</td>\n",
       "    </tr>\n",
       "    <tr>\n",
       "      <th>1</th>\n",
       "      <td>3.134241</td>\n",
       "      <td>Geodesic bulk diagrams on the Bruhat-Tits tree</td>\n",
       "    </tr>\n",
       "    <tr>\n",
       "      <th>4</th>\n",
       "      <td>2.753709</td>\n",
       "      <td>Revealing the interior of black holes out of equilibrium in the SYK\\n  model</td>\n",
       "    </tr>\n",
       "    <tr>\n",
       "      <th>5</th>\n",
       "      <td>1.618833</td>\n",
       "      <td>Global $SU(2)_L \\otimes$BRST symmetry and its LSS theorem:\\n  Ward-Takahashi identities governing Green's functions, on-shell T-Matrix\\n  elements...</td>\n",
       "    </tr>\n",
       "    <tr>\n",
       "      <th>0</th>\n",
       "      <td>1.006617</td>\n",
       "      <td>Deconfinement to Confinement as PT phase transition</td>\n",
       "    </tr>\n",
       "    <tr>\n",
       "      <th>7</th>\n",
       "      <td>0.401822</td>\n",
       "      <td>E(lementary) Strings in Six-Dimensional Heterotic F-Theory</td>\n",
       "    </tr>\n",
       "  </tbody>\n",
       "</table>\n",
       "</div>"
      ],
      "text/plain": [
       "      score  \\\n",
       "2  5.472836   \n",
       "3  5.267358   \n",
       "9  4.859127   \n",
       "8  4.567592   \n",
       "6  3.831391   \n",
       "1  3.134241   \n",
       "4  2.753709   \n",
       "5  1.618833   \n",
       "0  1.006617   \n",
       "7  0.401822   \n",
       "\n",
       "                                                                                                                                                   title  \n",
       "2                                                                                                 Possible Derivative Interactions in Massive bi-Gravity  \n",
       "3                                                               Greybody factors for a nonminimally coupled scalar field in BTZ black\\n  hole background  \n",
       "9                                                                                       Quantum equivalence of $f(R)$ gravity and scalar-tensor theories  \n",
       "8                                                                          New boundary variables for classical and quantum gravity on a null\\n  surface  \n",
       "6                                                                               On the renormalization group of quantum field theory (after R. Bocherds)  \n",
       "1                                                                                                         Geodesic bulk diagrams on the Bruhat-Tits tree  \n",
       "4                                                                           Revealing the interior of black holes out of equilibrium in the SYK\\n  model  \n",
       "5  Global $SU(2)_L \\otimes$BRST symmetry and its LSS theorem:\\n  Ward-Takahashi identities governing Green's functions, on-shell T-Matrix\\n  elements...  \n",
       "0                                                                                                    Deconfinement to Confinement as PT phase transition  \n",
       "7                                                                                             E(lementary) Strings in Six-Dimensional Heterotic F-Theory  "
      ]
     },
     "metadata": {},
     "output_type": "display_data"
    }
   ],
   "source": [
    "out = pd.DataFrame(columns=['score', 'title'])\n",
    "for i in range(10):\n",
    "    docnumber = randint(0,len(bow_corpus))\n",
    "    thistitle=np.array([row[1] for row in lda_model[bow_corpus[docnumber]]])\n",
    "    if ( len(thistitle) == Ntopics ):\n",
    "        thisscore=thistitle.dot(topicscore)\n",
    "    out = out.append({'score': thisscore, 'title':data.iloc[docnumber,2]},ignore_index=True)\n",
    "pd.options.display.max_colwidth = 150\n",
    "display(out.sort_values('score',ascending=False))\n"
   ]
  },
  {
   "cell_type": "markdown",
   "metadata": {},
   "source": [
    "# Game 2: Match 2 papers and I'll guess the one you like more"
   ]
  },
  {
   "cell_type": "code",
   "execution_count": 97,
   "metadata": {},
   "outputs": [
    {
     "name": "stdout",
     "output_type": "stream",
     "text": [
      "Paper A: \u001b[1mAutonomous Dynamical System Approach for $f(R)$ Gravity\u001b[0m\n",
      "In this work we shall investigate the cosmological dynamical system of $f(R)$\n",
      "gravity, by constructing it in such a way so that it is rendered autonomous. We\n",
      "shall study the vacuum $f(R)$ gravity case, but also the case that matter and\n",
      "radiation perfect fluids are present along with the $f(R)$ gravity. The\n",
      "dynamical system is constructed in such a way so that the time-dependence of\n",
      "the system is contained in a single parameter which depends on the Hubble rate\n",
      "and it's second derivative. The autonomous structure of the dynamical system is\n",
      "achieved when this parameter is constant, therefore we focus on these cases.\n",
      "For the vacuum $f(R)$ case, we investigate two cases with the first leading to\n",
      "a stable de Sitter attractor fixed point but also to an unstable de Sitter\n",
      "fixed point, and the second is related to a matter dominated era. The stable de\n",
      "Sitter attractor is also found for the $f(R)$ gravity in the presence of matter\n",
      "and radiation perfect fluids. In all the cases we performed a detailed\n",
      "numerical analysis of the dynamical system and we also investigate in detail\n",
      "the stability of the resulting fixed points. Also, we present an exceptional\n",
      "feature of the $R^2$ gravity model, in the absence of perfect fluids. Finally,\n",
      "we investigate what is the approximate form of the $f(R)$ gravities near the\n",
      "stable and the unstable de Sitter fixed points.\n",
      "\n",
      "Paper B: \u001b[1mWeil Algebra, 3-Lie Algebra and B.R.S. Algebra\u001b[0m\n",
      "We consider the 3-Lie algebra induced by a Lie algebra with the help of an\n",
      "analog of a trace. We propose the extension of the Weil algebra of a Lie\n",
      "algebra to the Weil algebra of induced 3-Lie algebra by introducing in addition\n",
      "to an analog of connection and its curvature new elements and defining their\n",
      "differential by means of structure constants of 3-Lie algebra. We also propose\n",
      "a new approach to the universal B.R.S. algebra based on the quantum triple\n",
      "Nambu bracket.\n",
      "\n",
      "Press a key to see my sorting!\n",
      "\n",
      "This is my preference:\n",
      "\n",
      "1)Autonomous Dynamical System Approach for $f(R)$ Gravity\t (Score: 2.16)\n",
      "2)Weil Algebra, 3-Lie Algebra and B.R.S. Algebra\t (Score: 1.28)\n",
      "--------------\n",
      "\n",
      "Press a key to see next papers\n",
      "Paper A: \u001b[1mThe fine structure of the finite-size effects for the spectrum of the\n",
      "  $OSp(n|2m)$ spin chain\u001b[0m\n",
      "In this paper we investigate the finite-size properties of the spectrum of\n",
      "quantum spin chains with local spins taken to be the fundamental vector\n",
      "representation of the $OSp(n|2m)$ superalgebra.\n",
      "\n",
      "Paper B: \u001b[1mSU(2$|$1) supersymmetric mechanics on curved spaces\u001b[0m\n",
      "We present SU$(2|1)$ supersymmetric mechanics on $n$-dimensional Riemannian\n",
      "manifolds within the Hamiltonian approach. The structure functions including\n",
      "prepotentials entering the supercharges and the Hamiltonian obey extended\n",
      "curved WDVV equations specified by the manifold's metric and curvature tensor.\n",
      "We consider the most general $u(2)$-valued prepotential, which contains both\n",
      "types (with and without spin variables), previously considered only separately.\n",
      "For the case of real K\\\"{a}hler manifolds we construct all possible\n",
      "interactions. For isotropic ($so(n)$-invariant) spaces we provide admissible\n",
      "prepotentials for any solution to the curved WDVV equations. All known\n",
      "one-dimensional SU$(2|1)$ supersymmetric models are reproduced.\n",
      "\n",
      "Press a key to see my sorting!\n",
      "\n",
      "This is my preference:\n",
      "\n",
      "1)SU(2$|$1) supersymmetric mechanics on curved spaces\t (Score: 2.38)\n",
      "2)The fine structure of the finite-size effects for the spectrum of the\n",
      "  $OSp(n|2m)$ spin chain\t (Score: 1.44)\n",
      "--------------\n",
      "\n"
     ]
    },
    {
     "ename": "KeyboardInterrupt",
     "evalue": "",
     "output_type": "error",
     "traceback": [
      "\u001b[0;31m---------------------------------------------------------------------------\u001b[0m",
      "\u001b[0;31mKeyboardInterrupt\u001b[0m                         Traceback (most recent call last)",
      "\u001b[0;32m~/.local/lib/python3.7/site-packages/ipykernel/kernelbase.py\u001b[0m in \u001b[0;36m_input_request\u001b[0;34m(self, prompt, ident, parent, password)\u001b[0m\n\u001b[1;32m    884\u001b[0m             \u001b[0;32mtry\u001b[0m\u001b[0;34m:\u001b[0m\u001b[0;34m\u001b[0m\u001b[0m\n\u001b[0;32m--> 885\u001b[0;31m                 \u001b[0mident\u001b[0m\u001b[0;34m,\u001b[0m \u001b[0mreply\u001b[0m \u001b[0;34m=\u001b[0m \u001b[0mself\u001b[0m\u001b[0;34m.\u001b[0m\u001b[0msession\u001b[0m\u001b[0;34m.\u001b[0m\u001b[0mrecv\u001b[0m\u001b[0;34m(\u001b[0m\u001b[0mself\u001b[0m\u001b[0;34m.\u001b[0m\u001b[0mstdin_socket\u001b[0m\u001b[0;34m,\u001b[0m \u001b[0;36m0\u001b[0m\u001b[0;34m)\u001b[0m\u001b[0;34m\u001b[0m\u001b[0m\n\u001b[0m\u001b[1;32m    886\u001b[0m             \u001b[0;32mexcept\u001b[0m \u001b[0mException\u001b[0m\u001b[0;34m:\u001b[0m\u001b[0;34m\u001b[0m\u001b[0m\n",
      "\u001b[0;32m~/.local/lib/python3.7/site-packages/jupyter_client/session.py\u001b[0m in \u001b[0;36mrecv\u001b[0;34m(self, socket, mode, content, copy)\u001b[0m\n\u001b[1;32m    802\u001b[0m         \u001b[0;32mtry\u001b[0m\u001b[0;34m:\u001b[0m\u001b[0;34m\u001b[0m\u001b[0m\n\u001b[0;32m--> 803\u001b[0;31m             \u001b[0mmsg_list\u001b[0m \u001b[0;34m=\u001b[0m \u001b[0msocket\u001b[0m\u001b[0;34m.\u001b[0m\u001b[0mrecv_multipart\u001b[0m\u001b[0;34m(\u001b[0m\u001b[0mmode\u001b[0m\u001b[0;34m,\u001b[0m \u001b[0mcopy\u001b[0m\u001b[0;34m=\u001b[0m\u001b[0mcopy\u001b[0m\u001b[0;34m)\u001b[0m\u001b[0;34m\u001b[0m\u001b[0m\n\u001b[0m\u001b[1;32m    804\u001b[0m         \u001b[0;32mexcept\u001b[0m \u001b[0mzmq\u001b[0m\u001b[0;34m.\u001b[0m\u001b[0mZMQError\u001b[0m \u001b[0;32mas\u001b[0m \u001b[0me\u001b[0m\u001b[0;34m:\u001b[0m\u001b[0;34m\u001b[0m\u001b[0m\n",
      "\u001b[0;32m~/.local/lib/python3.7/site-packages/zmq/sugar/socket.py\u001b[0m in \u001b[0;36mrecv_multipart\u001b[0;34m(self, flags, copy, track)\u001b[0m\n\u001b[1;32m    474\u001b[0m         \"\"\"\n\u001b[0;32m--> 475\u001b[0;31m         \u001b[0mparts\u001b[0m \u001b[0;34m=\u001b[0m \u001b[0;34m[\u001b[0m\u001b[0mself\u001b[0m\u001b[0;34m.\u001b[0m\u001b[0mrecv\u001b[0m\u001b[0;34m(\u001b[0m\u001b[0mflags\u001b[0m\u001b[0;34m,\u001b[0m \u001b[0mcopy\u001b[0m\u001b[0;34m=\u001b[0m\u001b[0mcopy\u001b[0m\u001b[0;34m,\u001b[0m \u001b[0mtrack\u001b[0m\u001b[0;34m=\u001b[0m\u001b[0mtrack\u001b[0m\u001b[0;34m)\u001b[0m\u001b[0;34m]\u001b[0m\u001b[0;34m\u001b[0m\u001b[0m\n\u001b[0m\u001b[1;32m    476\u001b[0m         \u001b[0;31m# have first part already, only loop while more to receive\u001b[0m\u001b[0;34m\u001b[0m\u001b[0;34m\u001b[0m\u001b[0m\n",
      "\u001b[0;32mzmq/backend/cython/socket.pyx\u001b[0m in \u001b[0;36mzmq.backend.cython.socket.Socket.recv\u001b[0;34m()\u001b[0m\n",
      "\u001b[0;32mzmq/backend/cython/socket.pyx\u001b[0m in \u001b[0;36mzmq.backend.cython.socket.Socket.recv\u001b[0;34m()\u001b[0m\n",
      "\u001b[0;32mzmq/backend/cython/socket.pyx\u001b[0m in \u001b[0;36mzmq.backend.cython.socket._recv_copy\u001b[0;34m()\u001b[0m\n",
      "\u001b[0;32m~/.local/lib/python3.7/site-packages/zmq/backend/cython/checkrc.pxd\u001b[0m in \u001b[0;36mzmq.backend.cython.checkrc._check_rc\u001b[0;34m()\u001b[0m\n",
      "\u001b[0;31mKeyboardInterrupt\u001b[0m: ",
      "\nDuring handling of the above exception, another exception occurred:\n",
      "\u001b[0;31mKeyboardInterrupt\u001b[0m                         Traceback (most recent call last)",
      "\u001b[0;32m<ipython-input-97-5df6c316dff6>\u001b[0m in \u001b[0;36m<module>\u001b[0;34m\u001b[0m\n\u001b[1;32m     16\u001b[0m         \u001b[0mprint\u001b[0m\u001b[0;34m(\u001b[0m\u001b[0;34m\"1)\"\u001b[0m\u001b[0;34m+\u001b[0m\u001b[0mdata\u001b[0m\u001b[0;34m.\u001b[0m\u001b[0miloc\u001b[0m\u001b[0;34m[\u001b[0m\u001b[0mdocnumber2\u001b[0m\u001b[0;34m,\u001b[0m\u001b[0;36m2\u001b[0m\u001b[0;34m]\u001b[0m\u001b[0;34m+\u001b[0m\u001b[0;34m\"\\t (Score: \"\u001b[0m\u001b[0;34m+\u001b[0m\u001b[0mstr\u001b[0m\u001b[0;34m(\u001b[0m\u001b[0mround\u001b[0m\u001b[0;34m(\u001b[0m\u001b[0mscore2\u001b[0m\u001b[0;34m,\u001b[0m\u001b[0;36m2\u001b[0m\u001b[0;34m)\u001b[0m\u001b[0;34m)\u001b[0m\u001b[0;34m+\u001b[0m\u001b[0;34m\")\"\u001b[0m\u001b[0;34m)\u001b[0m\u001b[0;34m\u001b[0m\u001b[0m\n\u001b[1;32m     17\u001b[0m         \u001b[0mprint\u001b[0m\u001b[0;34m(\u001b[0m\u001b[0;34m\"2)\"\u001b[0m\u001b[0;34m+\u001b[0m\u001b[0mdata\u001b[0m\u001b[0;34m.\u001b[0m\u001b[0miloc\u001b[0m\u001b[0;34m[\u001b[0m\u001b[0mdocnumber1\u001b[0m\u001b[0;34m,\u001b[0m\u001b[0;36m2\u001b[0m\u001b[0;34m]\u001b[0m\u001b[0;34m+\u001b[0m\u001b[0;34m\"\\t (Score: \"\u001b[0m\u001b[0;34m+\u001b[0m\u001b[0mstr\u001b[0m\u001b[0;34m(\u001b[0m\u001b[0mround\u001b[0m\u001b[0;34m(\u001b[0m\u001b[0mscore1\u001b[0m\u001b[0;34m,\u001b[0m\u001b[0;36m2\u001b[0m\u001b[0;34m)\u001b[0m\u001b[0;34m)\u001b[0m\u001b[0;34m+\u001b[0m\u001b[0;34m\")\"\u001b[0m\u001b[0;34m+\u001b[0m\u001b[0;34m\"\\n--------------\\n\"\u001b[0m\u001b[0;34m)\u001b[0m\u001b[0;34m\u001b[0m\u001b[0m\n\u001b[0;32m---> 18\u001b[0;31m  \u001b[0minput\u001b[0m\u001b[0;34m(\u001b[0m\u001b[0;34m\"Press a key to see next papers\"\u001b[0m\u001b[0;34m)\u001b[0m\u001b[0;34m\u001b[0m\u001b[0m\n\u001b[0m",
      "\u001b[0;32m~/.local/lib/python3.7/site-packages/ipykernel/kernelbase.py\u001b[0m in \u001b[0;36mraw_input\u001b[0;34m(self, prompt)\u001b[0m\n\u001b[1;32m    858\u001b[0m             \u001b[0mself\u001b[0m\u001b[0;34m.\u001b[0m\u001b[0m_parent_ident\u001b[0m\u001b[0;34m,\u001b[0m\u001b[0;34m\u001b[0m\u001b[0m\n\u001b[1;32m    859\u001b[0m             \u001b[0mself\u001b[0m\u001b[0;34m.\u001b[0m\u001b[0m_parent_header\u001b[0m\u001b[0;34m,\u001b[0m\u001b[0;34m\u001b[0m\u001b[0m\n\u001b[0;32m--> 860\u001b[0;31m             \u001b[0mpassword\u001b[0m\u001b[0;34m=\u001b[0m\u001b[0;32mFalse\u001b[0m\u001b[0;34m,\u001b[0m\u001b[0;34m\u001b[0m\u001b[0m\n\u001b[0m\u001b[1;32m    861\u001b[0m         )\n\u001b[1;32m    862\u001b[0m \u001b[0;34m\u001b[0m\u001b[0m\n",
      "\u001b[0;32m~/.local/lib/python3.7/site-packages/ipykernel/kernelbase.py\u001b[0m in \u001b[0;36m_input_request\u001b[0;34m(self, prompt, ident, parent, password)\u001b[0m\n\u001b[1;32m    888\u001b[0m             \u001b[0;32mexcept\u001b[0m \u001b[0mKeyboardInterrupt\u001b[0m\u001b[0;34m:\u001b[0m\u001b[0;34m\u001b[0m\u001b[0m\n\u001b[1;32m    889\u001b[0m                 \u001b[0;31m# re-raise KeyboardInterrupt, to truncate traceback\u001b[0m\u001b[0;34m\u001b[0m\u001b[0;34m\u001b[0m\u001b[0m\n\u001b[0;32m--> 890\u001b[0;31m                 \u001b[0;32mraise\u001b[0m \u001b[0mKeyboardInterrupt\u001b[0m\u001b[0;34m\u001b[0m\u001b[0m\n\u001b[0m\u001b[1;32m    891\u001b[0m             \u001b[0;32melse\u001b[0m\u001b[0;34m:\u001b[0m\u001b[0;34m\u001b[0m\u001b[0m\n\u001b[1;32m    892\u001b[0m                 \u001b[0;32mbreak\u001b[0m\u001b[0;34m\u001b[0m\u001b[0m\n",
      "\u001b[0;31mKeyboardInterrupt\u001b[0m: "
     ]
    }
   ],
   "source": [
    "    for hh in range(10):\n",
    "     docnumber1 = randint(0,len(bow_corpus))\n",
    "     docnumber2 = randint(0,len(bow_corpus))     \n",
    "     thistitle1=np.array([row[1] for row in lda_model[bow_corpus[docnumber1]]])\n",
    "     thistitle2=np.array([row[1] for row in lda_model[bow_corpus[docnumber2]]])\n",
    "     print(\"Paper A: \"+color.BOLD+data.iloc[docnumber1,2]+color.END+'\\n'+data.iloc[docnumber1,3]+'\\n')\n",
    "     print(\"Paper B: \"+color.BOLD+data.iloc[docnumber2,2]+color.END+'\\n'+data.iloc[docnumber2,3]+'\\n')\n",
    "     input(\"Press a key to see my sorting!\")\n",
    "     print (\"\\nThis is my preference:\\n\")\n",
    "     score1=thistitle1.dot(topicscore)\n",
    "     score2=thistitle2.dot(topicscore)\n",
    "     if (score1 > score2):\n",
    "            print(\"1)\"+data.iloc[docnumber1,2]+\"\\t (Score: \"+str(round(score1,2))+\")\")\n",
    "            print(\"2)\"+data.iloc[docnumber2,2]+\"\\t (Score: \"+str(round(score2,2))+\")\"+\"\\n--------------\\n\")\n",
    "     else:\n",
    "            print(\"1)\"+data.iloc[docnumber2,2]+\"\\t (Score: \"+str(round(score2,2))+\")\")\n",
    "            print(\"2)\"+data.iloc[docnumber1,2]+\"\\t (Score: \"+str(round(score1,2))+\")\"+\"\\n--------------\\n\")\n",
    "     input(\"Press a key to see next papers\")"
   ]
  }
 ],
 "metadata": {
  "kernelspec": {
   "display_name": "Python 3",
   "language": "python",
   "name": "python3"
  },
  "language_info": {
   "codemirror_mode": {
    "name": "ipython",
    "version": 3
   },
   "file_extension": ".py",
   "mimetype": "text/x-python",
   "name": "python",
   "nbconvert_exporter": "python",
   "pygments_lexer": "ipython3",
   "version": "3.7.0"
  }
 },
 "nbformat": 4,
 "nbformat_minor": 2
}
