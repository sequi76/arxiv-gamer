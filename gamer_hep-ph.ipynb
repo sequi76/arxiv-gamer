{
 "cells": [
  {
   "cell_type": "markdown",
   "metadata": {},
   "source": [
    "# - Playing LDA on the arxiv -\n",
    "If you have sklls on this and/or are interested in contributing, you are welcome!\n",
    "\n",
    "feedback: sequi@unsam.edu.ar Ezequiel Alvarez"
   ]
  },
  {
   "cell_type": "markdown",
   "metadata": {},
   "source": [
    "## Set up"
   ]
  },
  {
   "cell_type": "code",
   "execution_count": null,
   "metadata": {},
   "outputs": [],
   "source": [
    "import pandas as pd\n",
    "import pickle\n",
    "import gensim\n",
    "from gensim.utils import simple_preprocess\n",
    "from gensim.parsing.preprocessing import STOPWORDS\n",
    "import numpy as np\n",
    "np.random.seed(2018)\n",
    "from random import randint\n",
    "from operator import add\n",
    "class color:\n",
    "   PURPLE = '\\033[95m'\n",
    "   CYAN = '\\033[96m'\n",
    "   DARKCYAN = '\\033[36m'\n",
    "   BLUE = '\\033[94m'\n",
    "   GREEN = '\\033[92m'\n",
    "   YELLOW = '\\033[93m'\n",
    "   RED = '\\033[91m'\n",
    "   BOLD = '\\033[1m'\n",
    "   UNDERLINE = '\\033[4m'\n",
    "   END = '\\033[0m'"
   ]
  },
  {
   "cell_type": "markdown",
   "metadata": {},
   "source": [
    "## Load Saved Model"
   ]
  },
  {
   "cell_type": "code",
   "execution_count": null,
   "metadata": {},
   "outputs": [],
   "source": [
    "lda_model = gensim.models.LdaMulticore.load(\"models/hep-ph\")"
   ]
  },
  {
   "cell_type": "code",
   "execution_count": null,
   "metadata": {},
   "outputs": [],
   "source": [
    "data = pd.read_pickle('data/data_hep-ph.pickle');\n",
    "with open ('data/bow_corpus_hep-ph.pickle', 'rb') as file:\n",
    "    bow_corpus = pickle.load(file)"
   ]
  },
  {
   "cell_type": "code",
   "execution_count": null,
   "metadata": {},
   "outputs": [],
   "source": [
    "Ntopics=0;\n",
    "for idx, topic in lda_model.print_topics(-1):\n",
    "    Ntopics=Ntopics+1;\n",
    "print(Ntopics)"
   ]
  },
  {
   "cell_type": "markdown",
   "metadata": {},
   "source": [
    "## Learn your preferences "
   ]
  },
  {
   "cell_type": "code",
   "execution_count": null,
   "metadata": {},
   "outputs": [],
   "source": [
    "topicscore = [0] * Ntopics\n",
    "for i in range(20):\n",
    "    docnumber = randint(0,len(bow_corpus))\n",
    "    print(\"\\n\"+color.BOLD+data.iloc[docnumber,2]+color.END+\"\\n\\n\"+data.iloc[docnumber,3])\n",
    "    score = int(input(\"Score this paper between -10 (worst) and +10 (best): \"))\n",
    "    score2add = [row[1]*score for row in lda_model[bow_corpus[docnumber]]]\n",
    "    if ( len(score2add) != Ntopics ):\n",
    "        print('Not good length')\n",
    "    if ( len(score2add) == Ntopics ):\n",
    "        topicscore=list( map(add, topicscore, score2add) )\n",
    "        print(\"----\")\n",
    "     \n",
    "#print(\"\\n\\nGood, your score over topics is:\\n\")\n",
    "#print(topicscore)\n",
    "topicscore = np.array(topicscore)"
   ]
  },
  {
   "cell_type": "markdown",
   "metadata": {},
   "source": [
    "### Game 1: Sort 10 random papers according to your preferences"
   ]
  },
  {
   "cell_type": "code",
   "execution_count": null,
   "metadata": {
    "scrolled": true
   },
   "outputs": [],
   "source": [
    "out = pd.DataFrame(columns=['score', 'title'])\n",
    "for i in range(10):\n",
    "    docnumber = randint(0,len(bow_corpus))\n",
    "    thistitle=np.array([row[1] for row in lda_model[bow_corpus[docnumber]]])\n",
    "    if ( len(thistitle) == Ntopics ):\n",
    "        thisscore=thistitle.dot(topicscore)\n",
    "    out = out.append({'score': thisscore, 'title':data.iloc[docnumber,2]},ignore_index=True)\n",
    "pd.options.display.max_colwidth = 150\n",
    "display(out[['title']])\n",
    "input(\"Press [enter] to see how I guess your preferences!\")\n",
    "display(out.sort_values('score',ascending=False))\n"
   ]
  },
  {
   "cell_type": "markdown",
   "metadata": {},
   "source": [
    "# Game 2: Match between 2 papers"
   ]
  },
  {
   "cell_type": "code",
   "execution_count": null,
   "metadata": {},
   "outputs": [],
   "source": [
    "    for hh in range(10):\n",
    "     docnumber1 = randint(0,len(bow_corpus))\n",
    "     docnumber2 = randint(0,len(bow_corpus))     \n",
    "     thistitle1=np.array([row[1] for row in lda_model[bow_corpus[docnumber1]]])\n",
    "     thistitle2=np.array([row[1] for row in lda_model[bow_corpus[docnumber2]]])\n",
    "     print(\"Paper A: \"+color.BOLD+data.iloc[docnumber1,2]+color.END+'\\n'+data.iloc[docnumber1,3]+'\\n')\n",
    "     print(\"Paper B: \"+color.BOLD+data.iloc[docnumber2,2]+color.END+'\\n'+data.iloc[docnumber2,3]+'\\n')\n",
    "     input(\"Press [enter] to see how I guess your preferences!\")\n",
    "     print (\"\\nThis is my preference:\\n\")\n",
    "     score1=thistitle1.dot(topicscore)\n",
    "     score2=thistitle2.dot(topicscore)\n",
    "     if (score1 > score2):\n",
    "            print(\"1)\"+data.iloc[docnumber1,2]+\"\\t (Score: \"+str(round(score1,2))+\")\")\n",
    "            print(\"2)\"+data.iloc[docnumber2,2]+\"\\t (Score: \"+str(round(score2,2))+\")\"+\"\\n--------------\\n\")\n",
    "     else:\n",
    "            print(\"1)\"+data.iloc[docnumber2,2]+\"\\t (Score: \"+str(round(score2,2))+\")\")\n",
    "            print(\"2)\"+data.iloc[docnumber1,2]+\"\\t (Score: \"+str(round(score1,2))+\")\"+\"\\n--------------\\n\")\n",
    "     input(\"Press [enter] to see next papers\")"
   ]
  },
  {
   "cell_type": "markdown",
   "metadata": {},
   "source": [
    "# Bonus Track: get your most interesting papers in the Corpus!"
   ]
  },
  {
   "cell_type": "code",
   "execution_count": null,
   "metadata": {},
   "outputs": [],
   "source": [
    "allscores=[]\n",
    "for docnumber in range(len(data)):\n",
    "    thistitle=np.array([row[1] for row in lda_model[bow_corpus[docnumber]]])\n",
    "    thisscore=thistitle.dot(topicscore)\n",
    "    allscores.append(thisscore)\n",
    "data['score'] = allscores\n",
    "sorted_data=data.sort_values('score',ascending=False)"
   ]
  },
  {
   "cell_type": "code",
   "execution_count": null,
   "metadata": {},
   "outputs": [],
   "source": [
    "display(sorted_data[['title','authors','score']][:20])"
   ]
  },
  {
   "cell_type": "code",
   "execution_count": null,
   "metadata": {},
   "outputs": [],
   "source": []
  }
 ],
 "metadata": {
  "kernelspec": {
   "display_name": "Python 3",
   "language": "python",
   "name": "python3"
  },
  "language_info": {
   "codemirror_mode": {
    "name": "ipython",
    "version": 3
   },
   "file_extension": ".py",
   "mimetype": "text/x-python",
   "name": "python",
   "nbconvert_exporter": "python",
   "pygments_lexer": "ipython3",
   "version": "3.7.0"
  }
 },
 "nbformat": 4,
 "nbformat_minor": 2
}
